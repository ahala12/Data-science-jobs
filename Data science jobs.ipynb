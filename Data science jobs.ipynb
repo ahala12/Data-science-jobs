{
  "nbformat": 4,
  "nbformat_minor": 0,
  "metadata": {
    "colab": {
      "provenance": [],
      "authorship_tag": "ABX9TyOThcdr7Vl49XEeQ6Gg/MM0",
      "include_colab_link": true
    },
    "kernelspec": {
      "name": "python3",
      "display_name": "Python 3"
    },
    "language_info": {
      "name": "python"
    }
  },
  "cells": [
    {
      "cell_type": "markdown",
      "metadata": {
        "id": "view-in-github",
        "colab_type": "text"
      },
      "source": [
        "<a href=\"https://colab.research.google.com/github/ahala12/Data-science-jobs/blob/main/Data%20science%20jobs.ipynb\" target=\"_parent\"><img src=\"https://colab.research.google.com/assets/colab-badge.svg\" alt=\"Open In Colab\"/></a>"
      ]
    },
    {
      "cell_type": "code",
      "execution_count": 5,
      "metadata": {
        "colab": {
          "base_uri": "https://localhost:8080/",
          "height": 109
        },
        "id": "w33B5Y3Crt3K",
        "outputId": "a6620947-dff4-451d-f186-059943bea9f1"
      },
      "outputs": [
        {
          "output_type": "error",
          "ename": "SyntaxError",
          "evalue": "invalid syntax (<ipython-input-5-9058e3ae5623>, line 1)",
          "traceback": [
            "\u001b[0;36m  File \u001b[0;32m\"<ipython-input-5-9058e3ae5623>\"\u001b[0;36m, line \u001b[0;32m1\u001b[0m\n\u001b[0;31m    https://github.com/ahala12/Data-science-jobs.git\u001b[0m\n\u001b[0m          ^\u001b[0m\n\u001b[0;31mSyntaxError\u001b[0m\u001b[0;31m:\u001b[0m invalid syntax\n"
          ]
        }
      ],
      "source": [
        "https://github.com/ahala12/Data-science-jobs.git"
      ]
    },
    {
      "cell_type": "code",
      "source": [
        "import pandas as pd\n",
        "import numpy as np\n",
        "import matplotlib.pyplot as plt\n",
        "import seaborn as sns"
      ],
      "metadata": {
        "id": "UGcqVRCUr6K4"
      },
      "execution_count": 2,
      "outputs": []
    },
    {
      "cell_type": "code",
      "source": [
        "# Load the dataset\n",
        "df = pd.read_csv('data_science job.csv')\n",
        "\n",
        "print (df)\n"
      ],
      "metadata": {
        "colab": {
          "base_uri": "https://localhost:8080/"
        },
        "id": "0_Nn5lajsFtz",
        "outputId": "55420734-ae57-478c-e86d-ec57cd5be7d4"
      },
      "execution_count": 4,
      "outputs": [
        {
          "output_type": "stream",
          "name": "stdout",
          "text": [
            "       enrollee_id      city  city_development_index gender  \\\n",
            "0             8949  city_103                   0.920   Male   \n",
            "1            29725   city_40                   0.776   Male   \n",
            "2            11561   city_21                   0.624    NaN   \n",
            "3            33241  city_115                   0.789    NaN   \n",
            "4              666  city_162                   0.767   Male   \n",
            "...            ...       ...                     ...    ...   \n",
            "19153         7386  city_173                   0.878   Male   \n",
            "19154        31398  city_103                   0.920   Male   \n",
            "19155        24576  city_103                   0.920   Male   \n",
            "19156         5756   city_65                   0.802   Male   \n",
            "19157        23834   city_67                   0.855    NaN   \n",
            "\n",
            "           relevent_experience enrolled_university education_level  \\\n",
            "0      Has relevent experience       no_enrollment        Graduate   \n",
            "1       No relevent experience       no_enrollment        Graduate   \n",
            "2       No relevent experience    Full time course        Graduate   \n",
            "3       No relevent experience                 NaN        Graduate   \n",
            "4      Has relevent experience       no_enrollment         Masters   \n",
            "...                        ...                 ...             ...   \n",
            "19153   No relevent experience       no_enrollment        Graduate   \n",
            "19154  Has relevent experience       no_enrollment        Graduate   \n",
            "19155  Has relevent experience       no_enrollment        Graduate   \n",
            "19156  Has relevent experience       no_enrollment     High School   \n",
            "19157   No relevent experience       no_enrollment  Primary School   \n",
            "\n",
            "      major_discipline  experience company_size    company_type  \\\n",
            "0                 STEM        20.0          NaN             NaN   \n",
            "1                 STEM        15.0        50-99         Pvt Ltd   \n",
            "2                 STEM         5.0          NaN             NaN   \n",
            "3      Business Degree         0.0          NaN         Pvt Ltd   \n",
            "4                 STEM        20.0        50-99  Funded Startup   \n",
            "...                ...         ...          ...             ...   \n",
            "19153       Humanities        14.0          NaN             NaN   \n",
            "19154             STEM        14.0          NaN             NaN   \n",
            "19155             STEM        20.0        50-99         Pvt Ltd   \n",
            "19156              NaN         0.0      500-999         Pvt Ltd   \n",
            "19157              NaN         2.0          NaN             NaN   \n",
            "\n",
            "       training_hours  target  \n",
            "0                36.0       1  \n",
            "1                47.0       0  \n",
            "2                83.0       0  \n",
            "3                52.0       1  \n",
            "4                 8.0       0  \n",
            "...               ...     ...  \n",
            "19153            42.0       1  \n",
            "19154            52.0       1  \n",
            "19155            44.0       0  \n",
            "19156            97.0       0  \n",
            "19157           127.0       0  \n",
            "\n",
            "[19158 rows x 13 columns]\n"
          ]
        }
      ]
    }
  ]
}